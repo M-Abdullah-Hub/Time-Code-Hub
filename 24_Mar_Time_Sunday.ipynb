{
 "cells": [
  {
   "cell_type": "code",
   "execution_count": 18,
   "id": "aa2b216f",
   "metadata": {},
   "outputs": [],
   "source": [
    "import datetime"
   ]
  },
  {
   "cell_type": "code",
   "execution_count": 19,
   "id": "85fb1890",
   "metadata": {},
   "outputs": [
    {
     "data": {
      "text/plain": [
       "datetime.datetime(2024, 3, 24, 19, 56, 42, 384078)"
      ]
     },
     "execution_count": 19,
     "metadata": {},
     "output_type": "execute_result"
    }
   ],
   "source": [
    "LiveTime=datetime.datetime.now()\n",
    "\n",
    "LiveTime"
   ]
  },
  {
   "cell_type": "code",
   "execution_count": 20,
   "id": "77eb042d",
   "metadata": {},
   "outputs": [
    {
     "data": {
      "text/plain": [
       "datetime.datetime(24, 5, 24, 0, 0)"
      ]
     },
     "execution_count": 20,
     "metadata": {},
     "output_type": "execute_result"
    }
   ],
   "source": [
    "Time=datetime.datetime(24,5,24)\n",
    "Time"
   ]
  },
  {
   "cell_type": "code",
   "execution_count": 21,
   "id": "ca4f98c1",
   "metadata": {},
   "outputs": [
    {
     "data": {
      "text/plain": [
       "'24-03-2024'"
      ]
     },
     "execution_count": 21,
     "metadata": {},
     "output_type": "execute_result"
    }
   ],
   "source": [
    "Formate_Date=LiveTime.strftime('%d-%m-%Y')\n",
    "Formate_Date"
   ]
  },
  {
   "cell_type": "code",
   "execution_count": 22,
   "id": "b22b71bb",
   "metadata": {},
   "outputs": [
    {
     "data": {
      "text/plain": [
       "'19-56-42'"
      ]
     },
     "execution_count": 22,
     "metadata": {},
     "output_type": "execute_result"
    }
   ],
   "source": [
    "Formate_Time=LiveTime.strftime('%H-%M-%S')\n",
    "Formate_Time"
   ]
  },
  {
   "cell_type": "code",
   "execution_count": 32,
   "id": "55366a40",
   "metadata": {},
   "outputs": [
    {
     "data": {
      "text/plain": [
       "datetime.datetime(2024, 3, 24, 23, 56, 42, 384078)"
      ]
     },
     "execution_count": 32,
     "metadata": {},
     "output_type": "execute_result"
    }
   ],
   "source": [
    "NewTime=LiveTime+datetime.timedelta(hours=4)\n",
    "NewTime"
   ]
  },
  {
   "cell_type": "code",
   "execution_count": 33,
   "id": "6d50aa4e",
   "metadata": {},
   "outputs": [
    {
     "data": {
      "text/plain": [
       "datetime.datetime(2024, 3, 28, 19, 56, 42, 384078)"
      ]
     },
     "execution_count": 33,
     "metadata": {},
     "output_type": "execute_result"
    }
   ],
   "source": [
    "NewDate=LiveTime+datetime.timedelta(days=4)\n",
    "NewDate"
   ]
  },
  {
   "cell_type": "code",
   "execution_count": null,
   "id": "93954a64",
   "metadata": {},
   "outputs": [],
   "source": []
  }
 ],
 "metadata": {
  "kernelspec": {
   "display_name": "Python 3 (ipykernel)",
   "language": "python",
   "name": "python3"
  },
  "language_info": {
   "codemirror_mode": {
    "name": "ipython",
    "version": 3
   },
   "file_extension": ".py",
   "mimetype": "text/x-python",
   "name": "python",
   "nbconvert_exporter": "python",
   "pygments_lexer": "ipython3",
   "version": "3.11.4"
  }
 },
 "nbformat": 4,
 "nbformat_minor": 5
}
